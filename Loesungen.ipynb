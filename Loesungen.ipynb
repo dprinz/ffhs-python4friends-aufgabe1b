{
 "cells": [
  {
   "metadata": {},
   "cell_type": "markdown",
   "source": [
    "# Semesteraufgabe 1b\n",
    "## Auftrag 1\n",
    "Erstellen Sie eine Python-Funktion, die für eine natürliche Zahl entscheidet, ob sie eine Primzahl ist.Lösungen für Aufgabe 1b"
   ],
   "id": "96f3cf1ae2147cfe"
  },
  {
   "metadata": {
    "ExecuteTime": {
     "end_time": "2025-03-08T08:58:04.737023Z",
     "start_time": "2025-03-08T08:58:04.732118Z"
    }
   },
   "cell_type": "code",
   "source": [
    "def ist_primzahl(n):\n",
    "    for i in range(2, n):\n",
    "        if n % i == 0:\n",
    "            return False\n",
    "    return True"
   ],
   "id": "90274fcc39ac78ab",
   "outputs": [],
   "execution_count": 26
  },
  {
   "metadata": {},
   "cell_type": "markdown",
   "source": "Teste die Funktion mit den Zahlen von 1 bis 10",
   "id": "5c6ac75000842d4c"
  },
  {
   "metadata": {
    "ExecuteTime": {
     "end_time": "2025-03-08T08:58:04.753968Z",
     "start_time": "2025-03-08T08:58:04.751348Z"
    }
   },
   "cell_type": "code",
   "source": [
    "for i in range(1, 11):\n",
    "    print(\"Ist \", i, \" eine Primzahl?:\", ist_primzahl(i))"
   ],
   "id": "450c04247d6d5f86",
   "outputs": [
    {
     "name": "stdout",
     "output_type": "stream",
     "text": [
      "Ist  1  eine Primzahl?: True\n",
      "Ist  2  eine Primzahl?: True\n",
      "Ist  3  eine Primzahl?: True\n",
      "Ist  4  eine Primzahl?: False\n",
      "Ist  5  eine Primzahl?: True\n",
      "Ist  6  eine Primzahl?: False\n",
      "Ist  7  eine Primzahl?: True\n",
      "Ist  8  eine Primzahl?: False\n",
      "Ist  9  eine Primzahl?: False\n",
      "Ist  10  eine Primzahl?: False\n"
     ]
    }
   ],
   "execution_count": 27
  },
  {
   "metadata": {},
   "cell_type": "markdown",
   "source": [
    "## Auftrag 2\n",
    "\n",
    "Erstellen Sie eine Python-Funktion quadratische_gleichung(a, b, c), die für die Lösungen der quadratischen Gleichung\n",
    "$ax^2+bx+c=0$\n",
    "berechnet.\n",
    "Verwenden Sie dazu die Lösungsformel\n",
    "\n",
    "$x_{1,2} = \\frac{-b \\pm  \\sqrt{b^2-4ac}}{2a}$\n",
    "\n",
    "es gibt null, eine oder zwei (reelle) Lösungen, je nachdem, ob\n",
    "$b^2−4ac$\n",
    "negativ, null oder positiv ist.\n",
    "Die Lösungen sollen als Tupel zurückgegeben werden."
   ],
   "id": "17d6f66e89051da6"
  },
  {
   "metadata": {
    "ExecuteTime": {
     "end_time": "2025-03-08T08:58:04.771079Z",
     "start_time": "2025-03-08T08:58:04.768366Z"
    }
   },
   "cell_type": "code",
   "source": [
    "def quadratische_gleichung(a, b, c):\n",
    "    diskriminante = b ** 2 - 4 * a * c\n",
    "\n",
    "    # Für negative Diskriminanten gibt es keine Lösung\n",
    "    if diskriminante < 0:\n",
    "        return tuple()\n",
    "    elif diskriminante == 0:\n",
    "        return (-b / (2 * a),)\n",
    "    else:\n",
    "        x1 = (-b + diskriminante ** 0.5) / (2 * a)\n",
    "        x2 = (-b - diskriminante ** 0.5) / (2 * a)\n",
    "        return x1, x2\n"
   ],
   "id": "960d5f3982ade367",
   "outputs": [],
   "execution_count": 28
  },
  {
   "metadata": {},
   "cell_type": "markdown",
   "source": "Teste Funktion mit einer negativen Diskriminante (Erwarte keine Lösung)",
   "id": "3086e1070c5c77b9"
  },
  {
   "metadata": {
    "ExecuteTime": {
     "end_time": "2025-03-08T08:58:04.779331Z",
     "start_time": "2025-03-08T08:58:04.776372Z"
    }
   },
   "cell_type": "code",
   "source": "quadratische_gleichung(1, 2, 3)",
   "id": "94badbfd88cbda64",
   "outputs": [
    {
     "data": {
      "text/plain": [
       "()"
      ]
     },
     "execution_count": 29,
     "metadata": {},
     "output_type": "execute_result"
    }
   ],
   "execution_count": 29
  },
  {
   "metadata": {},
   "cell_type": "markdown",
   "source": "Teste Funktion mit Diskriminante gleich 0 (Erwarte eine Lösung)",
   "id": "5bcf539c436ce72"
  },
  {
   "metadata": {
    "ExecuteTime": {
     "end_time": "2025-03-08T08:58:04.792213Z",
     "start_time": "2025-03-08T08:58:04.789888Z"
    }
   },
   "cell_type": "code",
   "source": "quadratische_gleichung(4, 4, 1)",
   "id": "40cef7fed50fcea3",
   "outputs": [
    {
     "data": {
      "text/plain": [
       "(-0.5,)"
      ]
     },
     "execution_count": 30,
     "metadata": {},
     "output_type": "execute_result"
    }
   ],
   "execution_count": 30
  },
  {
   "metadata": {},
   "cell_type": "markdown",
   "source": "Teste Funktion mit positiver Diskriminante (Erwarte zwei Lösungen)",
   "id": "b815b8fe5e94818c"
  },
  {
   "metadata": {
    "ExecuteTime": {
     "end_time": "2025-03-08T08:58:04.811024Z",
     "start_time": "2025-03-08T08:58:04.808500Z"
    }
   },
   "cell_type": "code",
   "source": "quadratische_gleichung(1, 10, 3)",
   "id": "22f60019180cafe3",
   "outputs": [
    {
     "data": {
      "text/plain": [
       "(-0.30958424017657027, -9.69041575982343)"
      ]
     },
     "execution_count": 31,
     "metadata": {},
     "output_type": "execute_result"
    }
   ],
   "execution_count": 31
  },
  {
   "metadata": {},
   "cell_type": "markdown",
   "source": [
    "## Auftrag 3\n",
    "Schreiben Sie eine Funktion, die aus einer Liste alle Duplikate entfernt."
   ],
   "id": "280db8c9c044c306"
  },
  {
   "metadata": {
    "ExecuteTime": {
     "end_time": "2025-03-08T08:58:04.826320Z",
     "start_time": "2025-03-08T08:58:04.824278Z"
    }
   },
   "cell_type": "code",
   "source": [
    "def entferne_duplikate(liste):\n",
    "    return list(set(liste))"
   ],
   "id": "1f44bc03ac6c0458",
   "outputs": [],
   "execution_count": 32
  },
  {
   "metadata": {},
   "cell_type": "markdown",
   "source": "Teste Funktion mit einer Liste, die Duplikate enthält",
   "id": "e55a44c95fcae715"
  },
  {
   "metadata": {
    "ExecuteTime": {
     "end_time": "2025-03-08T08:58:04.837572Z",
     "start_time": "2025-03-08T08:58:04.833920Z"
    }
   },
   "cell_type": "code",
   "source": "entferne_duplikate([1, 1, 2, 2, 3])",
   "id": "cebbe4c085654d4e",
   "outputs": [
    {
     "data": {
      "text/plain": [
       "[1, 2, 3]"
      ]
     },
     "execution_count": 33,
     "metadata": {},
     "output_type": "execute_result"
    }
   ],
   "execution_count": 33
  },
  {
   "metadata": {},
   "cell_type": "markdown",
   "source": [
    "## Auftrag 4\n",
    "Schreiben Sie eine Funktion, die für eine Datumsangabe, die als String im ISO-Format gegeben ist, den zugehörigen Wochentag bestimmt."
   ],
   "id": "6d4a89ab4507c80b"
  },
  {
   "metadata": {
    "ExecuteTime": {
     "end_time": "2025-03-08T08:58:04.848200Z",
     "start_time": "2025-03-08T08:58:04.845584Z"
    }
   },
   "cell_type": "code",
   "source": [
    "import datetime\n",
    "\n",
    "\n",
    "def get_wochentag(iso_datum_string):\n",
    "    # Definiere Array von Wochentagen. Muss mit Sonntag anfangen, da dies bei Python als Anfang der Woche gilt.\n",
    "    wochen_tage = [\"Sonntag\", \"Montag\", \"Dienstag\", \"Mittwoch\", \"Donnerstag\", \"Freitag\", \"Samstag\"]\n",
    "    # Konvertiere string zu date object\n",
    "    iso_datum = datetime.date.fromisoformat(iso_datum_string),\n",
    "    return wochen_tage[iso_datum[0].isoweekday()]\n"
   ],
   "id": "18901f466ae2afcc",
   "outputs": [],
   "execution_count": 34
  },
  {
   "metadata": {},
   "cell_type": "markdown",
   "source": "Teste Wochentagsfunktion",
   "id": "8190624d4186c7fa"
  },
  {
   "metadata": {
    "ExecuteTime": {
     "end_time": "2025-03-08T08:58:04.869672Z",
     "start_time": "2025-03-08T08:58:04.867440Z"
    }
   },
   "cell_type": "code",
   "source": "get_wochentag(\"2025-02-13\")",
   "id": "20c3a63a94346d95",
   "outputs": [
    {
     "data": {
      "text/plain": [
       "'Donnerstag'"
      ]
     },
     "execution_count": 35,
     "metadata": {},
     "output_type": "execute_result"
    }
   ],
   "execution_count": 35
  }
 ],
 "metadata": {
  "kernelspec": {
   "display_name": "Python 3 (ipykernel)",
   "language": "python",
   "name": "python3"
  },
  "language_info": {
   "codemirror_mode": {
    "name": "ipython",
    "version": 2
   },
   "file_extension": ".py",
   "mimetype": "text/x-python",
   "name": "python",
   "nbconvert_exporter": "python",
   "pygments_lexer": "ipython2",
   "version": "2.7.6"
  }
 },
 "nbformat": 4,
 "nbformat_minor": 5
}
